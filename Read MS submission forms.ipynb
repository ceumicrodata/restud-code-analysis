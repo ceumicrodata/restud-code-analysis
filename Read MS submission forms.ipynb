{
 "cells": [
  {
   "cell_type": "code",
   "execution_count": 56,
   "metadata": {},
   "outputs": [],
   "source": [
    "from docx import Document\n",
    "import glob, csv"
   ]
  },
  {
   "cell_type": "code",
   "execution_count": 21,
   "metadata": {},
   "outputs": [],
   "source": [
    "document = Document('REStud papers/23034 Draca/draca_RESTUD Manuscript Submission Form_2017_11_19.docx')"
   ]
  },
  {
   "cell_type": "code",
   "execution_count": 96,
   "metadata": {},
   "outputs": [],
   "source": [
    "def get_text_fields(doc):\n",
    "    return [i.text.strip(' :') for i in doc.element.xpath('//w:t')]\n",
    "\n",
    "def get_value(doc, key):\n",
    "    cells = get_text_fields(doc)\n",
    "    if key in cells:\n",
    "        return cells[cells.index(key.strip(' :'))+1]\n",
    "    else:\n",
    "        return ''\n",
    "\n",
    "def get_between(doc, start, end):\n",
    "    cells = get_text_fields(doc)\n",
    "    if start not in cells:\n",
    "        return ''\n",
    "    i = cells.index(start)\n",
    "    if end not in cells[i+1:]:\n",
    "        return cells[i+1]\n",
    "    j = cells[i+1:].index(end)+i+1\n",
    "    return '\\n'.join(cells[i+1:j])\n",
    "\n",
    "FIELDS = dict(ms_number=(get_value, 'Number'), title=(get_between, 'Article Title', 'Manuscript'), \n",
    "              author=(get_value, 'Last Name'), email=(get_value, 'E-mail Address'),\n",
    "             editor=(get_value, 'Accepting Editor'), accepted_date=(get_value, 'Accepted Date'))\n",
    "\n",
    "def get_fields(doc, fields):\n",
    "    return {key:fields[key][0](doc, *fields[key][1:]) for key in fields}"
   ]
  },
  {
   "cell_type": "code",
   "execution_count": 97,
   "metadata": {},
   "outputs": [
    {
     "data": {
      "text/plain": [
       "{'ms_number': '23034',\n",
       " 'title': 'The Changing Returns to Crime: Do Criminals Respond to Prices?',\n",
       " 'author': 'Draca',\n",
       " 'email': 'm.draca@warwick.ac.uk',\n",
       " 'editor': 'Jerome Adda',\n",
       " 'accepted_date': '2017-06-20'}"
      ]
     },
     "execution_count": 97,
     "metadata": {},
     "output_type": "execute_result"
    }
   ],
   "source": [
    "get_fields(document, FIELDS)"
   ]
  },
  {
   "cell_type": "code",
   "execution_count": 98,
   "metadata": {},
   "outputs": [],
   "source": [
    "forms = glob.glob('REStud papers/????? */*.docx')"
   ]
  },
  {
   "cell_type": "code",
   "execution_count": 99,
   "metadata": {},
   "outputs": [
    {
     "data": {
      "text/plain": [
       "124"
      ]
     },
     "execution_count": 99,
     "metadata": {},
     "output_type": "execute_result"
    }
   ],
   "source": [
    "len(forms)"
   ]
  },
  {
   "cell_type": "code",
   "execution_count": 104,
   "metadata": {},
   "outputs": [],
   "source": [
    "writer = csv.DictWriter(open('manuscripts.csv', 'w'), fieldnames=list(FIELDS.keys()))\n",
    "writer.writeheader()"
   ]
  },
  {
   "cell_type": "code",
   "execution_count": 105,
   "metadata": {},
   "outputs": [
    {
     "name": "stdout",
     "output_type": "stream",
     "text": [
      "1 REStud papers/16267 Ripoll/RESTUD Manuscript Submission Form[1].docx\n",
      "2 REStud papers/16414 Xu/RESTUD Manuscript Submission Form.docx\n",
      "3 REStud papers/17444 Li/RESTUD Manuscript Submission Form.docx\n",
      "4 REStud papers/17762 Satchi/RESTUD Manuscript Submission Form.docx\n",
      "5 REStud papers/17847 Di Giorgi/RESTUD Manuscript Submission Form.docx\n",
      "6 REStud papers/18075 Rosenzweig/RESTUD Manuscript Submission Form.docx\n",
      "7 REStud papers/18080 Duffy/RESTUD Manuscript Submission Form.docx\n",
      "8 REStud papers/18332 Lessem/RESTUD Manuscript Submission Form.docx\n",
      "9 REStud papers/18592 MeyerTerVehn/RESTUD Manuscript Submission Form.docx\n",
      "10 REStud papers/18706 Duranton/RESTUD Manuscript Submission Form.docx\n",
      "11 REStud papers/18771 Malenko/RESTUD Manuscript Submission Form.docx\n",
      "12 REStud papers/18931 Stavrakeva/RESTUD Manuscript Submission Form.docx\n",
      "13 REStud papers/19013 Kim/RESTUD Manuscript Submission Form.docx\n",
      "14 REStud papers/19019 Laczo/MS19019 RESTUD Manuscript Submission Form.docx\n",
      "15 REStud papers/19047 Llull/RESTUD_Manuscript_Submission_Form.docx\n",
      "16 REStud papers/19075 Karlan/RESTUD Manuscript Submission Form.docx\n",
      "17 REStud papers/19160 VegaRedondo/RESTUD Manuscript Submission Form.docx\n",
      "18 REStud papers/19184 Barrage/RESTUD Manuscript Submission Form.docx\n",
      "19 REStud papers/19259 Williams/RESTUD Manuscript Submission Form.docx\n",
      "20 REStud papers/19275 Landry/RESTUD Manuscript Submission Form.docx\n",
      "21 REStud papers/19304 Brick/Manuscript Submission Form.docx\n",
      "22 REStud papers/19393 Cole/RESTUD Manuscript 19393 Submission Form.docx\n",
      "23 REStud papers/19500 Mobarak/Manuscript Submission Form BenYishay and Mobarak (int164's conflicted copy 2018-07-24).docx\n",
      "24 REStud papers/19556 Dovis/RESTUD Manuscript Submission Form.docx\n",
      "25 REStud papers/19562 Freyberger/RESTUD Manuscript Submission Form.docx\n",
      "26 REStud papers/19618 Black/RESTUD Manuscript Submission Form.docx\n",
      "27 REStud papers/19687 Pavan/RESTUD Manuscript Submission Form.docx\n",
      "28 REStud papers/19806 Ali/RESTUD Manuscript Submission Form.docx\n",
      "29 REStud papers/19885 Walden/RESTUD Manuscript Submission Form.docx\n",
      "30 REStud papers/20030 Karantounias/RESTUD Manuscript Submission Form.docx\n",
      "31 REStud papers/20055 MullerFrank/RESTUD Manuscript Submission Form.docx\n",
      "32 REStud papers/20181 Jolivet/RESTUD Manuscript Submission Form.docx\n",
      "33 REStud papers/20267 Bernard/RESTUD Manuscript Submission Form MS20267.docx\n",
      "34 REStud papers/20276 Marcet/RESTUD Manuscript Submission Form.docx\n",
      "35 REStud papers/20328 Garrett/Manuscript_Submission_Form_garrett_et_al.docx\n",
      "36 REStud papers/20328 Garrett/RESTUD Manuscript Submission Form.docx\n",
      "37 REStud papers/20347 Morales/RESTUD Manuscript Submission Form.docx\n",
      "38 REStud papers/20425 Miller/RESTUD Manuscript Submission Form[1].docx\n",
      "39 REStud papers/20437 Halevy/RESTUD Manuscript Submission Form.docx\n",
      "40 REStud papers/20519 Li/Manuscript Submission Form.docx\n",
      "41 REStud papers/20523 Lentz/RESTUD Manuscript Submission Form.docx\n",
      "42 REStud papers/20860 Crouzet/RESTUD Manuscript Submission Form.docx\n",
      "43 REStud papers/20916 Lise/RESTUD Manuscript Submission Form.docx\n",
      "44 REStud papers/20984 D’Haultfœuille/RESTUD Manuscript Submission Form[1].docx\n",
      "45 REStud papers/21087 Viswanathan/RESTUD Manuscript Submission Form.docx\n",
      "46 REStud papers/21183 Costinot/RESTUD Manuscript Submission Form.docx\n",
      "47 REStud papers/21211 Caliendo/RESTUD Manuscript Submission Form.docx\n",
      "48 REStud papers/21295 Hebert/RESTUD Manuscript Submission Form.docx\n",
      "49 REStud papers/21316 Starc/RESTUD Manuscript Submission Form_sinkinson_starc.docx\n",
      "50 REStud papers/21358 Menzio/Manuscript Submission Form (3).docx\n",
      "51 REStud papers/21401 Herkenhoff/RESTUD Manuscript Submission Form.docx\n",
      "52 REStud papers/21419 Wolpin/RESTUD Manuscript Submission Form.docx\n",
      "53 REStud papers/21434 Van Weelden/RESTUD Manuscript Submission Form.docx\n",
      "54 REStud papers/21453 Chetverikov/RESTUD Manuscript Submission Form.docx\n",
      "55 REStud papers/21593 Souza-Rodrigues/MS21593-RESTUD Manuscript Submission Form.docx\n",
      "56 REStud papers/21657 Zimmermann/RESTUD Manuscript Submission Form.docx\n",
      "57 REStud papers/21721 Shah/RESTUD Manuscript Submission Form (1).docx\n",
      "58 REStud papers/21791 Bjorkegren/RESTUD Manuscript Submission Form DB.docx\n",
      "59 REStud papers/21860 Grosjean/RESTUD Manuscript Submission Form.docx\n",
      "60 REStud papers/21869 Weber/RESTUD Manuscript Submission Form.docx\n",
      "61 REStud papers/21881 Canay/RESTUD Manuscript Submission Form.docx\n",
      "62 REStud papers/21884 Santos/RESTUD Manuscript Submission Form.docx\n",
      "63 REStud papers/21959 Tirole/RESTUD Manuscript Submission Form.docx\n",
      "64 REStud papers/21986 Budish/RESTUD Manuscript Submission Form.docx\n",
      "65 REStud papers/22113 Jarosch/RESTUD Manuscript Submission Form MS22113-3.docx\n",
      "66 REStud papers/22113 Jarosch/RESTUD Manuscript Submission Form.docx\n",
      "67 REStud papers/22115 Li/RESTUD Manuscript Submission Form_Li.docx\n",
      "68 REStud papers/22135 Amodio/RESTUD Manuscript Submission Form.docx\n",
      "69 REStud papers/22217 Heathcote/RESTUD Manuscript Submission Form.docx\n",
      "70 REStud papers/22347 HeyerdahlLarsen/RESTUD Manuscript Submission Form.docx\n",
      "71 REStud papers/22362 Woodruff/RESTUD Manuscript Submission Form.docx\n",
      "72 REStud papers/22410 Fajgelbaum/Manuscript Submission Form.docx\n",
      "73 REStud papers/22542 Schmutz/RESTUD Manuscript Submission Form[1].docx\n",
      "74 REStud papers/22604 Le Barbanchon/RESTUD Manuscript Submission Form.docx\n",
      "75 REStud papers/22687 Ramadorai/ManuscriptSubmissionForm.docx\n",
      "76 REStud papers/22712 Bollerslev/Manuscript Submission Form.docx\n",
      "77 REStud papers/22742 Dean/RESTUD Manuscript Submission Form-1.docx\n",
      "78 REStud papers/22793 Kircher/RESTUD Manuscript Submission Form.docx\n",
      "79 REStud papers/22844 Dustmann/Submission Form.docx\n",
      "80 REStud papers/22911 Chassang/Manuscript Submission Form 22911.docx\n",
      "81 REStud papers/22911 Chassang/RESTUD Manuscript Submission Form.docx\n",
      "82 REStud papers/22926 Benigno/RESTUD Manuscript Submission Form.docx\n",
      "83 REStud papers/22942 Taubinsky/RESTUD Manuscript Submission Form.docx\n",
      "84 REStud papers/22951 Rossi/RESTUD Manuscript Submission Form[1].docx\n",
      "85 REStud papers/23024 Holden/RESTUD Manuscript Submission Form.docx\n",
      "86 REStud papers/23034 Draca/draca_RESTUD Manuscript Submission Form_2017_11_19.docx\n",
      "87 REStud papers/23103 Fuster/RESTUD Manuscript Submission Form.docx\n",
      "88 REStud papers/23129 Gavazza/RESTUD Manuscript Submission Form (1).docx\n",
      "89 REStud papers/23129 Gavazza/RESTUD Manuscript Submission Form.docx\n",
      "90 REStud papers/23130 Augenblick/RESTUD Manuscript Submission Form Completed.docx\n",
      "91 REStud papers/23182 Dilme/RESTUD Manuscript Submission Form.docx\n",
      "92 REStud papers/23182 Dilme/RESTUD Manuscript Submission Form[1].docx\n",
      "93 REStud papers/23275 Aghion/RESTUD Manuscript Submission Form.docx\n",
      "94 REStud papers/23383 Carroll/RESTUD Manuscript Submission Form filled.docx\n",
      "95 REStud papers/23473 Cattaneo/RESTUD Manuscript Submission Form.docx\n",
      "96 REStud papers/23473 Cattaneo/RESTUD Manuscript Submission Form[1].docx\n",
      "97 REStud papers/23553 Lipman/RESTUD Manuscript Submission Form.docx\n",
      "98 REStud papers/23600 Chang/RESTUD Manuscript Submission Form.docx\n",
      "99 REStud papers/23779 Ahn/RESTUD Manuscript Submission Form-completed.docx\n",
      "100 REStud papers/23780 Saez/RESTUD Manuscript Submission Form.docx\n",
      "101 REStud papers/23868 Ghent/RESTUD Manuscript Submission Form.docx\n",
      "102 REStud papers/23907 Vavra/RESTUD Manuscript Submission Form.docx\n",
      "103 REStud papers/23910 Chaney/RESTUD Manuscript Submission Form.docx\n",
      "104 REStud papers/23934 Itskhoki/RESTUD Manuscript Submission Form.docx\n",
      "105 REStud papers/23943 Surico/RESTUD Manuscript Submission Form.docx\n",
      "106 REStud papers/24001 Papaioannou/RESTUD Manuscript Submission Form.docx\n",
      "107 REStud papers/24081 Horner/RESTUD Manuscript Submission Form.docx\n",
      "108 REStud papers/24086 Heller/RESTUD Manuscript Submission Form.docx\n",
      "109 REStud papers/24087 Jackson/RESTUD Manuscript Submission Form.docx\n",
      "110 REStud papers/24106 de Clippel/RESTUD Manuscript Submission Form.docx\n",
      "111 REStud papers/24155 Zhuravskaya/MS24155 Manuscript Submission Form.docx\n",
      "112 REStud papers/24155 Zhuravskaya/RESTUD Manuscript Submission Form.docx\n",
      "113 REStud papers/24156 Salant/RESTUD Manuscript Submission Form.docx\n",
      "114 REStud papers/24279 Sequeira/RESTUD Manuscript Submission Form.docx\n",
      "115 REStud papers/24493 Dittmar/RESTUD Manuscript Submission Form[1].docx\n",
      "116 REStud papers/24530 Bursztyn/RESTUD Manuscript Submission Form.docx\n",
      "117 REStud papers/24631 Stroebel/RESTUD Manuscript Submission Form.docx\n",
      "118 REStud papers/24653 Krusell/RESTUD Manuscript Submission Form.docx\n",
      "119 REStud papers/24673 Kleven/RESTUD Manuscript Submission Form.docx\n",
      "120 REStud papers/24807 Pope/RESTUD Manuscript Submission Form.docx\n",
      "121 REStud papers/24937 Bhaskar/RESTUD Manuscript Submission Form.docx\n",
      "122 REStud papers/24938 Acemoglu/RESTUD Manuscript Submission Form.docx\n",
      "123 REStud papers/25361 Dell/RESTUD Manuscript Submission Form.docx\n",
      "124 REStud papers/25546 Fujiwara/RESTUD Manuscript Submission Form.docx\n"
     ]
    }
   ],
   "source": [
    "i = 0\n",
    "for form in forms:\n",
    "    i += 1\n",
    "    print(i, form)\n",
    "    try:\n",
    "        writer.writerow(get_fields(Document(form), FIELDS))\n",
    "    except:\n",
    "        print('{} failed.'.format(form))\n",
    "        get_fields(Document(form), FIELDS)\n"
   ]
  },
  {
   "cell_type": "code",
   "execution_count": 102,
   "metadata": {},
   "outputs": [
    {
     "data": {
      "text/plain": [
       "{'ms_number': '17444',\n",
       " 'title': 'Growth Through Inter-\\nsectoral\\nKnowledge Linkages',\n",
       " 'author': 'Li',\n",
       " 'email': 'Nanli1@gmail.com',\n",
       " 'editor': 'Francesco Caselli',\n",
       " 'accepted_date': ''}"
      ]
     },
     "execution_count": 102,
     "metadata": {},
     "output_type": "execute_result"
    }
   ],
   "source": [
    "get_fields(Document('REStud papers/17444 Li/RESTUD Manuscript Submission Form.docx'), FIELDS)"
   ]
  },
  {
   "cell_type": "code",
   "execution_count": 103,
   "metadata": {},
   "outputs": [
    {
     "data": {
      "text/plain": [
       "['Manuscript',\n",
       " 'Submission',\n",
       " 'Form',\n",
       " 'The template belo',\n",
       " 'w is to be used when submitting files for Accepted',\n",
       " 'Restud',\n",
       " 'articles',\n",
       " 'to O',\n",
       " 'xford',\n",
       " 'U',\n",
       " 'niversity',\n",
       " 'P',\n",
       " 'ress',\n",
       " '. You',\n",
       " 'do not',\n",
       " 'need fill in all categories if they are not relevant but please provide as much key information for the typesetting team as possible.',\n",
       " 'MANUSCRIPT INFORMATION',\n",
       " 'Article Title',\n",
       " 'Growth Through Inter-',\n",
       " 'sectoral',\n",
       " 'Knowledge Linkages',\n",
       " 'Manuscript',\n",
       " 'Number',\n",
       " '17444',\n",
       " 'All Authors',\n",
       " 'and Affiliations',\n",
       " '',\n",
       " '[list the names of',\n",
       " 'all of',\n",
       " 'the authors',\n",
       " 'and their affiliations',\n",
       " 'as they are to appear in the paper here]',\n",
       " 'Jie Cai, Shanghai University of Finance and Economics',\n",
       " 'Nan Li, International Monetary Fund',\n",
       " 'Original Submission Date',\n",
       " '2012-11-05',\n",
       " 'Editorial Decision',\n",
       " 'Date',\n",
       " '2018-09-12',\n",
       " 'Date submitted to OUP',\n",
       " '2018-10-09',\n",
       " 'Total no of figures',\n",
       " '',\n",
       " '8',\n",
       " 'Total no of tables',\n",
       " '7',\n",
       " 'Accepting Editor',\n",
       " 'Francesco Caselli',\n",
       " 'CORRESPONDING AUTHOR INFORMATION',\n",
       " 'Title',\n",
       " 'Dr.',\n",
       " 'First Name',\n",
       " 'Nan',\n",
       " 'Middle Name(s)',\n",
       " 'Click here to enter text.',\n",
       " 'Last Name',\n",
       " 'Li',\n",
       " 'Primary Phone Number',\n",
       " '[if available]',\n",
       " '+1 2026234461',\n",
       " 'E-mail Address',\n",
       " 'Nanli1@gmail.com',\n",
       " 'Position',\n",
       " 'Senior Economist',\n",
       " 'Department',\n",
       " 'Research Department',\n",
       " 'Institution',\n",
       " 'International Monetary Fund',\n",
       " 'Address Line 1',\n",
       " '700 19th Street NW',\n",
       " 'Address Line 2',\n",
       " 'Click here to enter text.',\n",
       " 'Address Line 3',\n",
       " 'Click here to enter text.',\n",
       " 'City',\n",
       " 'Washington',\n",
       " 'State',\n",
       " 'DC',\n",
       " 'Zip/Postal Code',\n",
       " '20431',\n",
       " 'Country',\n",
       " 'USA',\n",
       " 'ADDITIONAL MANUSCRIPT DETAILS',\n",
       " '[e.g. linked papers, embargoes,',\n",
       " 'planned',\n",
       " 'press releases]',\n",
       " 'None',\n",
       " 'Supplementary Material',\n",
       " 'Please',\n",
       " 'specify',\n",
       " 'the files you are sending: Online appendix/data/code/simulations/readme etc.  Not only “supplementary.zip”',\n",
       " 'Online',\n",
       " 'appendix',\n",
       " '',\n",
       " '/data',\n",
       " '',\n",
       " '/code',\n",
       " '',\n",
       " '/simulations',\n",
       " '',\n",
       " '/readme',\n",
       " 'Keywords',\n",
       " 'Endogenous growth; R&D; Inter-sectoral knowledge',\n",
       " 'spillovers',\n",
       " '; Firm innovation;',\n",
       " '',\n",
       " 'Multiple sectors; Resource allocation',\n",
       " 'JEL Codes',\n",
       " 'O30, O31, O33, O40, O41',\n",
       " 'Notes to production',\n",
       " '[Special instructions for Production and/or the',\n",
       " 'typesetters]',\n",
       " '',\n",
       " '',\n",
       " 'Click here to enter text.']"
      ]
     },
     "execution_count": 103,
     "metadata": {},
     "output_type": "execute_result"
    }
   ],
   "source": [
    "get_text_fields(Document('REStud papers/17444 Li/RESTUD Manuscript Submission Form.docx'))"
   ]
  },
  {
   "cell_type": "code",
   "execution_count": null,
   "metadata": {},
   "outputs": [],
   "source": []
  }
 ],
 "metadata": {
  "kernelspec": {
   "display_name": "Python 3",
   "language": "python",
   "name": "python3"
  },
  "language_info": {
   "codemirror_mode": {
    "name": "ipython",
    "version": 3
   },
   "file_extension": ".py",
   "mimetype": "text/x-python",
   "name": "python",
   "nbconvert_exporter": "python",
   "pygments_lexer": "ipython3",
   "version": "3.7.0"
  }
 },
 "nbformat": 4,
 "nbformat_minor": 2
}
